{
  "metadata": {
    "kernelspec": {
      "language": "python",
      "display_name": "Python 3",
      "name": "python3"
    },
    "language_info": {
      "name": "python",
      "version": "3.10.13",
      "mimetype": "text/x-python",
      "codemirror_mode": {
        "name": "ipython",
        "version": 3
      },
      "pygments_lexer": "ipython3",
      "nbconvert_exporter": "python",
      "file_extension": ".py"
    },
    "kaggle": {
      "accelerator": "none",
      "dataSources": [
        {
          "sourceId": 3362,
          "databundleVersionId": 31148,
          "sourceType": "competition"
        }
      ],
      "dockerImageVersionId": 30746,
      "isInternetEnabled": true,
      "language": "python",
      "sourceType": "notebook",
      "isGpuEnabled": false
    },
    "colab": {
      "name": "VaibhavBS@21 Dogs vs. Cats",
      "provenance": []
    }
  },
  "nbformat_minor": 0,
  "nbformat": 4,
  "cells": [
    {
      "source": [
        "\n",
        "# IMPORTANT: RUN THIS CELL IN ORDER TO IMPORT YOUR KAGGLE DATA SOURCES\n",
        "# TO THE CORRECT LOCATION (/kaggle/input) IN YOUR NOTEBOOK,\n",
        "# THEN FEEL FREE TO DELETE THIS CELL.\n",
        "# NOTE: THIS NOTEBOOK ENVIRONMENT DIFFERS FROM KAGGLE'S PYTHON\n",
        "# ENVIRONMENT SO THERE MAY BE MISSING LIBRARIES USED BY YOUR\n",
        "# NOTEBOOK.\n",
        "\n",
        "import os\n",
        "import sys\n",
        "from tempfile import NamedTemporaryFile\n",
        "from urllib.request import urlopen\n",
        "from urllib.parse import unquote, urlparse\n",
        "from urllib.error import HTTPError\n",
        "from zipfile import ZipFile\n",
        "import tarfile\n",
        "import shutil\n",
        "\n",
        "CHUNK_SIZE = 40960\n",
        "DATA_SOURCE_MAPPING = 'dogs-vs-cats:https%3A%2F%2Fstorage.googleapis.com%2Fkaggle-competitions-data%2Fkaggle-v2%2F3362%2F31148%2Fbundle%2Farchive.zip%3FX-Goog-Algorithm%3DGOOG4-RSA-SHA256%26X-Goog-Credential%3Dgcp-kaggle-com%2540kaggle-161607.iam.gserviceaccount.com%252F20240726%252Fauto%252Fstorage%252Fgoog4_request%26X-Goog-Date%3D20240726T162125Z%26X-Goog-Expires%3D259200%26X-Goog-SignedHeaders%3Dhost%26X-Goog-Signature%3D1ada86c0e6215d17c99aafab2ea7570aaf436614bb7c05412b07c545bbbdd0279e17476175f3883d647c71dc679a60c0ea76447aa7a4c1c090348b06e804a26a10291e0633d2f271236a7305b772e6f2dddf642ef0360e979cc2623998800046c41e57e61582009bc655944664990134c10008e85de0a562be581ded4d7fa6ab7d1a3055ee71590f43aede74e5c8b78bb2039a75d5e8c0aa7e5c4913cd17f4a1f153b8c825906654c8bfaa1baa7e2d5888976d2dfb21b8da35a01c1a47d379b48df7eee720d1b1a86b2c12773621ab3f99b58e8b18fc39e589c571f7774e1d3483680297e259622aceceeeb73fc639801413d70e499b3f35aed4c0a131615728'\n",
        "\n",
        "KAGGLE_INPUT_PATH='/kaggle/input'\n",
        "KAGGLE_WORKING_PATH='/kaggle/working'\n",
        "KAGGLE_SYMLINK='kaggle'\n",
        "\n",
        "!umount /kaggle/input/ 2> /dev/null\n",
        "shutil.rmtree('/kaggle/input', ignore_errors=True)\n",
        "os.makedirs(KAGGLE_INPUT_PATH, 0o777, exist_ok=True)\n",
        "os.makedirs(KAGGLE_WORKING_PATH, 0o777, exist_ok=True)\n",
        "\n",
        "try:\n",
        "  os.symlink(KAGGLE_INPUT_PATH, os.path.join(\"..\", 'input'), target_is_directory=True)\n",
        "except FileExistsError:\n",
        "  pass\n",
        "try:\n",
        "  os.symlink(KAGGLE_WORKING_PATH, os.path.join(\"..\", 'working'), target_is_directory=True)\n",
        "except FileExistsError:\n",
        "  pass\n",
        "\n",
        "for data_source_mapping in DATA_SOURCE_MAPPING.split(','):\n",
        "    directory, download_url_encoded = data_source_mapping.split(':')\n",
        "    download_url = unquote(download_url_encoded)\n",
        "    filename = urlparse(download_url).path\n",
        "    destination_path = os.path.join(KAGGLE_INPUT_PATH, directory)\n",
        "    try:\n",
        "        with urlopen(download_url) as fileres, NamedTemporaryFile() as tfile:\n",
        "            total_length = fileres.headers['content-length']\n",
        "            print(f'Downloading {directory}, {total_length} bytes compressed')\n",
        "            dl = 0\n",
        "            data = fileres.read(CHUNK_SIZE)\n",
        "            while len(data) > 0:\n",
        "                dl += len(data)\n",
        "                tfile.write(data)\n",
        "                done = int(50 * dl / int(total_length))\n",
        "                sys.stdout.write(f\"\\r[{'=' * done}{' ' * (50-done)}] {dl} bytes downloaded\")\n",
        "                sys.stdout.flush()\n",
        "                data = fileres.read(CHUNK_SIZE)\n",
        "            if filename.endswith('.zip'):\n",
        "              with ZipFile(tfile) as zfile:\n",
        "                zfile.extractall(destination_path)\n",
        "            else:\n",
        "              with tarfile.open(tfile.name) as tarfile:\n",
        "                tarfile.extractall(destination_path)\n",
        "            print(f'\\nDownloaded and uncompressed: {directory}')\n",
        "    except HTTPError as e:\n",
        "        print(f'Failed to load (likely expired) {download_url} to path {destination_path}')\n",
        "        continue\n",
        "    except OSError as e:\n",
        "        print(f'Failed to load {download_url} to path {destination_path}')\n",
        "        continue\n",
        "\n",
        "print('Data source import complete.')\n"
      ],
      "metadata": {
        "id": "VVdJeOq62PK1"
      },
      "cell_type": "code",
      "outputs": [],
      "execution_count": null
    },
    {
      "cell_type": "code",
      "source": [
        "# This Python 3 environment comes with many helpful analytics libraries installed\n",
        "# It is defined by the kaggle/python Docker image: https://github.com/kaggle/docker-python\n",
        "# For example, here's several helpful packages to load\n",
        "\n",
        "import numpy as np # linear algebra\n",
        "import pandas as pd # data processing, CSV file I/O (e.g. pd.read_csv)\n",
        "\n",
        "# Input data files are available in the read-only \"../input/\" directory\n",
        "# For example, running this (by clicking run or pressing Shift+Enter) will list all files under the input directory\n",
        "\n",
        "import os\n",
        "for dirname, _, filenames in os.walk('/kaggle/input/dogs-vs-cats'):\n",
        "    for filename in filenames:\n",
        "        print(os.path.join(dirname, filename))\n",
        "\n",
        "# You can write up to 20GB to the current directory (/kaggle/working/) that gets preserved as output when you create a version using \"Save & Run All\"\n",
        "# You can also write temporary files to /kaggle/temp/, but they won't be saved outside of the current session"
      ],
      "metadata": {
        "_uuid": "8f2839f25d086af736a60e9eeb907d3b93b6e0e5",
        "_cell_guid": "b1076dfc-b9ad-4769-8c92-a6c4dae69d19",
        "execution": {
          "iopub.status.busy": "2024-07-18T04:58:52.753811Z",
          "iopub.execute_input": "2024-07-18T04:58:52.754654Z",
          "iopub.status.idle": "2024-07-18T04:58:53.71875Z",
          "shell.execute_reply.started": "2024-07-18T04:58:52.754619Z",
          "shell.execute_reply": "2024-07-18T04:58:53.717534Z"
        },
        "trusted": true,
        "id": "cNXe-fZK2PK4"
      },
      "execution_count": null,
      "outputs": []
    },
    {
      "cell_type": "code",
      "source": [
        "import os\n",
        "print(os.listdir(\"../input\"))\n",
        "\n",
        "import zipfile\n",
        "\n",
        "with zipfile.ZipFile(\"/kaggle/input/dogs-vs-cats/test1.zip\",\"r\") as z:\n",
        "    z.extractall(\".\")\n",
        "\n",
        "with zipfile.ZipFile(\"/kaggle/input/dogs-vs-cats/train.zip\",\"r\") as z:\n",
        "    z.extractall(\".\")"
      ],
      "metadata": {
        "execution": {
          "iopub.status.busy": "2024-07-18T05:00:23.449262Z",
          "iopub.execute_input": "2024-07-18T05:00:23.449767Z",
          "iopub.status.idle": "2024-07-18T05:00:39.067912Z",
          "shell.execute_reply.started": "2024-07-18T05:00:23.449737Z",
          "shell.execute_reply": "2024-07-18T05:00:39.066984Z"
        },
        "trusted": true,
        "id": "ZrClXGB02PK5"
      },
      "execution_count": null,
      "outputs": []
    },
    {
      "cell_type": "code",
      "source": [
        "# plot dog photos from the dogs vs cats dataset\n",
        "from matplotlib import pyplot\n",
        "from matplotlib.image import imread\n",
        "train_folder = '/kaggle/working/train/'\n",
        "\n",
        "# define location of dataset\n",
        "folder = train_folder\n",
        "# plot first few images\n",
        "for i in range(9):\n",
        "\t# define subplot\n",
        "\tpyplot.subplot(330 + 1 + i)\n",
        "\t# define filename\n",
        "\tfilename = folder + 'dog.' + str(i) + '.jpg'\n",
        "\t# load image pixels\n",
        "\timage = imread(filename)\n",
        "\t# plot raw pixel data\n",
        "\tpyplot.imshow(image)\n",
        "# show the figure\n",
        "pyplot.show()"
      ],
      "metadata": {
        "execution": {
          "iopub.status.busy": "2024-07-18T05:00:42.488999Z",
          "iopub.execute_input": "2024-07-18T05:00:42.489345Z",
          "iopub.status.idle": "2024-07-18T05:00:43.735848Z",
          "shell.execute_reply.started": "2024-07-18T05:00:42.489319Z",
          "shell.execute_reply": "2024-07-18T05:00:43.734717Z"
        },
        "trusted": true,
        "id": "Ye3W1gvv2PK5"
      },
      "execution_count": null,
      "outputs": []
    },
    {
      "cell_type": "code",
      "source": [
        "# plot first few images\n",
        "for i in range(9):\n",
        "\t# define subplot\n",
        "\tpyplot.subplot(330 + 1 + i)\n",
        "\t# define filename\n",
        "\tfilename = folder + 'cat.' + str(i) + '.jpg'\n",
        "\t# load image pixels\n",
        "\timage = imread(filename)\n",
        "\t# plot raw pixel data\n",
        "\tpyplot.imshow(image)\n",
        "# show the figure\n",
        "pyplot.show()"
      ],
      "metadata": {
        "execution": {
          "iopub.status.busy": "2024-07-18T05:01:04.684246Z",
          "iopub.execute_input": "2024-07-18T05:01:04.685171Z",
          "iopub.status.idle": "2024-07-18T05:01:05.767524Z",
          "shell.execute_reply.started": "2024-07-18T05:01:04.685134Z",
          "shell.execute_reply": "2024-07-18T05:01:05.766478Z"
        },
        "trusted": true,
        "id": "ykNqJDRs2PK6"
      },
      "execution_count": null,
      "outputs": []
    },
    {
      "cell_type": "code",
      "source": [
        "# load dogs vs cats dataset, reshape and save to a new file\n",
        "from os import listdir\n",
        "from numpy import asarray\n",
        "from numpy import save\n",
        "from keras.preprocessing.image import load_img\n",
        "from keras.preprocessing.image import img_to_array"
      ],
      "metadata": {
        "execution": {
          "iopub.status.busy": "2024-07-18T05:07:46.837737Z",
          "iopub.execute_input": "2024-07-18T05:07:46.838246Z",
          "iopub.status.idle": "2024-07-18T05:07:46.844474Z",
          "shell.execute_reply.started": "2024-07-18T05:07:46.838198Z",
          "shell.execute_reply": "2024-07-18T05:07:46.843446Z"
        },
        "trusted": true,
        "id": "jccM66UL2PK6"
      },
      "execution_count": null,
      "outputs": []
    },
    {
      "cell_type": "code",
      "source": [
        "# define location of dataset\n",
        "folder = 'train/'\n",
        "photos, labels = list(), list()\n",
        "# enumerate files in the directory\n",
        "for file in listdir(folder):\n",
        "#for file in listdir(folder[:10_000]): # select 10_000 images\n",
        "\t# determine class\n",
        "\toutput = 0.0\n",
        "\tif file.startswith('dog'):\n",
        "\t\toutput = 1.0\n",
        "\t# load image\n",
        "\tphoto = load_img(folder + file, target_size=(200, 200))\n",
        "\t# convert to numpy array\n",
        "\tphoto = img_to_array(photo)\n",
        "\t# store\n",
        "\tphotos.append(photo)\n",
        "\tlabels.append(output)"
      ],
      "metadata": {
        "execution": {
          "iopub.status.busy": "2024-07-18T05:02:17.534111Z",
          "iopub.execute_input": "2024-07-18T05:02:17.534776Z",
          "iopub.status.idle": "2024-07-18T05:02:59.739137Z",
          "shell.execute_reply.started": "2024-07-18T05:02:17.534743Z",
          "shell.execute_reply": "2024-07-18T05:02:59.738016Z"
        },
        "trusted": true,
        "id": "4PyOF3wx2PK7"
      },
      "execution_count": null,
      "outputs": []
    },
    {
      "cell_type": "code",
      "source": [
        "!ls -l"
      ],
      "metadata": {
        "execution": {
          "iopub.status.busy": "2024-07-18T05:02:59.74093Z",
          "iopub.execute_input": "2024-07-18T05:02:59.741345Z",
          "iopub.status.idle": "2024-07-18T05:03:01.037444Z",
          "shell.execute_reply.started": "2024-07-18T05:02:59.741306Z",
          "shell.execute_reply": "2024-07-18T05:03:01.036041Z"
        },
        "trusted": true,
        "id": "CSz5LOzS2PK7"
      },
      "execution_count": null,
      "outputs": []
    },
    {
      "cell_type": "markdown",
      "source": [
        "# load and confirm the shape\n",
        "from numpy import load photos = load('dogs_vs_cats_photos.npy') labels = load('dogs_vs_cats_labels.npy') print(photos.shape, labels.shape)"
      ],
      "metadata": {
        "id": "8ybHVqCt2PK7"
      }
    },
    {
      "cell_type": "code",
      "source": [
        "# create directories\n",
        "import os\n",
        "dataset_home = 'dataset_dogs_vs_cats/'\n",
        "subdirs = ['train/', 'test/']\n",
        "for subdir in subdirs:\n",
        "    # create label subdirectories\n",
        "    labeldirs = ['dogs/', 'cats/']\n",
        "    for labldir in labeldirs:\n",
        "        newdir = dataset_home + subdir + labldir\n",
        "        os.makedirs(newdir, exist_ok=True)"
      ],
      "metadata": {
        "execution": {
          "iopub.status.busy": "2024-07-18T05:03:39.234906Z",
          "iopub.execute_input": "2024-07-18T05:03:39.235367Z",
          "iopub.status.idle": "2024-07-18T05:03:39.24275Z",
          "shell.execute_reply.started": "2024-07-18T05:03:39.235329Z",
          "shell.execute_reply": "2024-07-18T05:03:39.241539Z"
        },
        "trusted": true,
        "id": "5GpnvBhS2PK8"
      },
      "execution_count": null,
      "outputs": []
    },
    {
      "cell_type": "code",
      "source": [
        "# organize dataset into a useful structure\n",
        "from os import makedirs\n",
        "from os import listdir\n",
        "from shutil import copyfile\n",
        "from random import seed\n",
        "from random import random\n",
        "# create directories\n",
        "dataset_home = 'dataset_dogs_vs_cats/'\n",
        "subdirs = ['train/', 'test/']\n",
        "for subdir in subdirs:\n",
        "\t# create label subdirectories\n",
        "\tlabeldirs = ['dogs/', 'cats/']\n",
        "\tfor labldir in labeldirs:\n",
        "\t\tnewdir = dataset_home + subdir + labldir\n",
        "\t\tmakedirs(newdir, exist_ok=True)\n",
        "# seed random number generator\n",
        "seed(1)\n",
        "# define ratio of pictures to use for validation\n",
        "val_ratio = 0.25\n",
        "# copy training dataset images into subdirectories\n",
        "src_directory = 'train/'\n",
        "for file in listdir(src_directory):\n",
        "\tsrc = src_directory + '/' + file\n",
        "\tdst_dir = 'train/'\n",
        "\tif random() < val_ratio:\n",
        "\t\tdst_dir = 'test/'\n",
        "\tif file.startswith('cat'):\n",
        "\t\tdst = dataset_home + dst_dir + 'cats/'  + file\n",
        "\t\tcopyfile(src, dst)\n",
        "\telif file.startswith('dog'):\n",
        "\t\tdst = dataset_home + dst_dir + 'dogs/'  + file\n",
        "\t\tcopyfile(src, dst)"
      ],
      "metadata": {
        "execution": {
          "iopub.status.busy": "2024-07-18T05:03:52.654116Z",
          "iopub.execute_input": "2024-07-18T05:03:52.654935Z",
          "iopub.status.idle": "2024-07-18T05:03:55.247143Z",
          "shell.execute_reply.started": "2024-07-18T05:03:52.654899Z",
          "shell.execute_reply": "2024-07-18T05:03:55.246009Z"
        },
        "trusted": true,
        "id": "iha_7pFt2PK9"
      },
      "execution_count": null,
      "outputs": []
    },
    {
      "cell_type": "code",
      "source": [
        "!ls -l test1 | wc"
      ],
      "metadata": {
        "execution": {
          "iopub.status.busy": "2024-07-18T05:04:04.629146Z",
          "iopub.execute_input": "2024-07-18T05:04:04.629519Z",
          "iopub.status.idle": "2024-07-18T05:04:06.039143Z",
          "shell.execute_reply.started": "2024-07-18T05:04:04.62949Z",
          "shell.execute_reply": "2024-07-18T05:04:06.037575Z"
        },
        "trusted": true,
        "id": "snqag47B2PK9"
      },
      "execution_count": null,
      "outputs": []
    },
    {
      "cell_type": "code",
      "source": [],
      "metadata": {
        "id": "rP8wLg3z2PK9"
      },
      "execution_count": null,
      "outputs": []
    }
  ]
}